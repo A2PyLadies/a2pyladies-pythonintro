{
 "metadata": {
  "name": ""
 },
 "nbformat": 3,
 "nbformat_minor": 0,
 "worksheets": [
  {
   "cells": [
    {
     "cell_type": "markdown",
     "metadata": {},
     "source": [
      "# Intro to Python - Part 3\n",
      "\n",
      "We're now ready to write a hangman program."
     ]
    }
   ],
   "metadata": {}
  }
 ]
}