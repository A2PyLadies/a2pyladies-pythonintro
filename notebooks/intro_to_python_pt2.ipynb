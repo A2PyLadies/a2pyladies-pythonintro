{
 "metadata": {
  "name": ""
 },
 "nbformat": 3,
 "nbformat_minor": 0,
 "worksheets": [
  {
   "cells": [
    {
     "cell_type": "markdown",
     "metadata": {},
     "source": [
      "# Intro to Python - Part 2\n",
      "\n",
      "For the next part of this class, we'll be working out of the text editor, instead of the interactive shell. We're going to learn a few more useful things and then start on our hangman program. Let's open up the file we created in part one, 'script.py'.\n",
      "\n",
      "## Comments\n",
      "\n",
      "A useful strategy for writing code is to write in comments. Comments are lines of code that the program doesn't execute, but are written in so you know what's going on in the code. In Python, comments start with the '#' symbol. You can write comments like this:"
     ]
    },
    {
     "cell_type": "code",
     "collapsed": false,
     "input": [
      "# This is a comment!"
     ],
     "language": "python",
     "metadata": {},
     "outputs": [],
     "prompt_number": 2
    },
    {
     "cell_type": "markdown",
     "metadata": {},
     "source": [
      "So let's go back to our file and comment out the line we wrote. Your line should look like this:"
     ]
    },
    {
     "cell_type": "code",
     "collapsed": false,
     "input": [
      "# print 'Hello, world!'"
     ],
     "language": "python",
     "metadata": {},
     "outputs": [],
     "prompt_number": 4
    },
    {
     "cell_type": "markdown",
     "metadata": {},
     "source": [
      "## Conditionals\n",
      "\n",
      "Conditionals are extremely important to writing programs. Sometimes, we don't want to execute everything we write all the time but only when certain critera is met (or under certain conditions). For that, we have if and else statements. \n",
      "\n",
      "### A note about whitespace and indentation\n",
      "\n",
      "Before we write some conditionals, there are a couple of things we need to know. First, whitespace is very important in Python. Writing conditionals (and loops and functions) creates code blocks which, if not properly indented, will throw an error when run. This can be annoying at first, but it ensures that everyone's code is readable and written in the same style. Hitting 'tab' to indent will do the trick. \n",
      "\n",
      "Back in our file, write the following, save the file, and then type 'python script.py' and hit enter in the command line:"
     ]
    },
    {
     "cell_type": "code",
     "collapsed": false,
     "input": [
      "x = 5\n",
      "\n",
      "# If statement\n",
      "if x == 5:\n",
      "    print 'x is equal to 5'"
     ],
     "language": "python",
     "metadata": {},
     "outputs": [
      {
       "output_type": "stream",
       "stream": "stdout",
       "text": [
        "x is equal to 5\n"
       ]
      }
     ],
     "prompt_number": 5
    },
    {
     "cell_type": "markdown",
     "metadata": {},
     "source": [
      "Let's make it a little more interesting. Add the following to your file so it looks like this, and run it again:"
     ]
    },
    {
     "cell_type": "code",
     "collapsed": false,
     "input": [
      "x = 5\n",
      "\n",
      "# If statement\n",
      "if x == 5:\n",
      "    print 'x is equal to 5'\n",
      "    \n",
      "y = 10\n",
      "\n",
      "# If/else statement\n",
      "if x > y:\n",
      "    print 'x is greater than y'\n",
      "else:\n",
      "    print 'y is greater than x'"
     ],
     "language": "python",
     "metadata": {},
     "outputs": [
      {
       "output_type": "stream",
       "stream": "stdout",
       "text": [
        "x is equal to 5\n",
        "y is greater than x\n"
       ]
      }
     ],
     "prompt_number": 7
    },
    {
     "cell_type": "markdown",
     "metadata": {},
     "source": [
      "Conditionals can also be extended, to check for multiple criteria. You can include multiple conditions in one line, and you can also extend them separately, with 'elif', which is short for 'else if'. Edit your code so it looks like the following:"
     ]
    },
    {
     "cell_type": "code",
     "collapsed": false,
     "input": [
      "x = 5\n",
      "y = 10\n",
      "z = 15\n",
      "\n",
      "# If/else statement\n",
      "\n",
      "# Checking if y is both greater than x and less than z\n",
      "if x < y and y < z:\n",
      "    print 'y is in the middle'\n",
      "# Checking if z is less than y or z is less than x\n",
      "elif z < y or z < x:\n",
      "    print 'z is less'"
     ],
     "language": "python",
     "metadata": {},
     "outputs": [
      {
       "output_type": "stream",
       "stream": "stdout",
       "text": [
        "y is in the middle\n"
       ]
      }
     ],
     "prompt_number": 8
    },
    {
     "cell_type": "markdown",
     "metadata": {},
     "source": [
      "Only the first print statement gets executed, because x is less than y and y is less than z. Z isn't less than either of the other two variables, so the second print statement doesn't get executed."
     ]
    },
    {
     "cell_type": "markdown",
     "metadata": {},
     "source": [
      "## Data structures\n",
      "\n",
      "A large part of programming is storing collections of information. There are several ways to do this is Python, but we're going to talk about two of them: lists and dictionaries.\n",
      "\n",
      "### Lists\n",
      "\n",
      "A list is simply an ordered collection of elements. A list can be made up of variables, strings, numbers, or even other lists. Lists look like this:"
     ]
    },
    {
     "cell_type": "code",
     "collapsed": false,
     "input": [
      "my_list = ['item1', 'item2', 'item3']\n",
      "print my_list"
     ],
     "language": "python",
     "metadata": {},
     "outputs": [
      {
       "output_type": "stream",
       "stream": "stdout",
       "text": [
        "['item1', 'item2', 'item3']\n"
       ]
      }
     ],
     "prompt_number": 4
    },
    {
     "cell_type": "markdown",
     "metadata": {},
     "source": [
      "with square brackets, and with the items separated by commas. Lists are mutable, meaning that you can change the values of a list within a program. Lists also have several methods, meaning that they have built-in functions you can use on them. A particularly useful method is 'append', which adds an item onto the end of a list:"
     ]
    },
    {
     "cell_type": "code",
     "collapsed": false,
     "input": [
      "my_list.append('item4')\n",
      "print my_list"
     ],
     "language": "python",
     "metadata": {},
     "outputs": [
      {
       "output_type": "stream",
       "stream": "stdout",
       "text": [
        "['item1', 'item2', 'item3', 'item4']\n"
       ]
      }
     ],
     "prompt_number": 5
    },
    {
     "cell_type": "markdown",
     "metadata": {},
     "source": [
      "List items are also indexed. This means that you can access each item in the list based on its numerical position. Lists are zero-indexed, meaning that the first item has an index number of 0, the second number has an index number of 1, and so on:"
     ]
    },
    {
     "cell_type": "code",
     "collapsed": false,
     "input": [
      "print my_list[0]"
     ],
     "language": "python",
     "metadata": {},
     "outputs": [
      {
       "output_type": "stream",
       "stream": "stdout",
       "text": [
        "item1\n"
       ]
      }
     ],
     "prompt_number": 6
    },
    {
     "cell_type": "code",
     "collapsed": false,
     "input": [
      "print my_list[3]"
     ],
     "language": "python",
     "metadata": {},
     "outputs": [
      {
       "output_type": "stream",
       "stream": "stdout",
       "text": [
        "item4\n"
       ]
      }
     ],
     "prompt_number": 8
    },
    {
     "cell_type": "markdown",
     "metadata": {},
     "source": [
      "Let's add a list to our script.py file. We'll create a list with the variables we already have, go into our if/else statement, and if the first condition is met, we'll add another number to our list. You can see that it is, and that 20 gets appended to our list. We also print out both the third list item as well as the last list item:"
     ]
    },
    {
     "cell_type": "code",
     "collapsed": false,
     "input": [
      "x = 5 \n",
      "y = 10\n",
      "z = 15\n",
      "\n",
      "# List of our variables\n",
      "numbers = [x, y, z]\n",
      "\n",
      "# Checking if y is both greater than x and less than z\n",
      "if x < y and y < z:\n",
      "\tprint 'y is in the middle'\n",
      "\tnumbers.append(20) # If this is true, append 20 to our numbers list\n",
      "\n",
      "# Checking if z is less than y or less than x\n",
      "elif z < y or z < x:\n",
      "    print 'z is less'\n",
      "\n",
      "print numbers\n",
      "\n",
      "print numbers[2] # Print the third list item\n",
      "print numbers[-1] # Print the last list item"
     ],
     "language": "python",
     "metadata": {},
     "outputs": [
      {
       "output_type": "stream",
       "stream": "stdout",
       "text": [
        "y is in the middle\n",
        "[5, 10, 15, 20]\n",
        "15\n",
        "20\n"
       ]
      }
     ],
     "prompt_number": 10
    },
    {
     "cell_type": "markdown",
     "metadata": {},
     "source": [
      "### Dictionaries\n",
      "\n",
      "Another useful data structure is the dictionary. Dictionaries are made up of key/value pairs, meaning that you can access the items in a dictionary through its keys (similar to how you can access items in a list based on its indices). Dictionaries are surrounded by curly braces, and key/value pairs are designated with a colon:"
     ]
    },
    {
     "cell_type": "code",
     "collapsed": false,
     "input": [
      "my_dict = {'item1': 20, 'item2': 30, 'item3': 40}\n",
      "print my_dict"
     ],
     "language": "python",
     "metadata": {},
     "outputs": [
      {
       "output_type": "stream",
       "stream": "stdout",
       "text": [
        "{'item2': 30, 'item3': 40, 'item1': 20}\n"
       ]
      }
     ],
     "prompt_number": 11
    },
    {
     "cell_type": "markdown",
     "metadata": {},
     "source": [
      "To access a value, you use the key:"
     ]
    },
    {
     "cell_type": "code",
     "collapsed": false,
     "input": [
      "print my_dict['item2']"
     ],
     "language": "python",
     "metadata": {},
     "outputs": [
      {
       "output_type": "stream",
       "stream": "stdout",
       "text": [
        "30\n"
       ]
      }
     ],
     "prompt_number": 12
    },
    {
     "cell_type": "markdown",
     "metadata": {},
     "source": [
      "You'll notice that the dictionary items printed out in a different order than the order they were put in. Dictionaries, unlike lists, are unordered. You can add items to dictionaries though, by simply creating a new key/value pair. An important thing to note is that each key in a dictionary must be unique."
     ]
    },
    {
     "cell_type": "code",
     "collapsed": false,
     "input": [
      "my_dict['item4'] = 50\n",
      "print my_dict"
     ],
     "language": "python",
     "metadata": {},
     "outputs": [
      {
       "output_type": "stream",
       "stream": "stdout",
       "text": [
        "{'item2': 30, 'item3': 40, 'item1': 20, 'item4': 50}\n"
       ]
      }
     ],
     "prompt_number": 14
    },
    {
     "cell_type": "markdown",
     "metadata": {},
     "source": [
      "You can see that the 'item4':50 pair was added to the dictionary. Dictionaries have some useful methods. If you want to see all of the keys for a dictionary:"
     ]
    },
    {
     "cell_type": "code",
     "collapsed": false,
     "input": [
      "print my_dict.keys()"
     ],
     "language": "python",
     "metadata": {},
     "outputs": [
      {
       "output_type": "stream",
       "stream": "stdout",
       "text": [
        "['item2', 'item3', 'item1', 'item4']\n"
       ]
      }
     ],
     "prompt_number": 15
    },
    {
     "cell_type": "markdown",
     "metadata": {},
     "source": [
      "And if you want to see the values:"
     ]
    },
    {
     "cell_type": "code",
     "collapsed": false,
     "input": [
      "print my_dict.values()"
     ],
     "language": "python",
     "metadata": {},
     "outputs": [
      {
       "output_type": "stream",
       "stream": "stdout",
       "text": [
        "[30, 40, 20, 50]\n"
       ]
      }
     ],
     "prompt_number": 16
    },
    {
     "cell_type": "markdown",
     "metadata": {},
     "source": [
      "Let's add a dictionary to our script! Edit your code so it looks like this, and then run it:"
     ]
    },
    {
     "cell_type": "code",
     "collapsed": false,
     "input": [
      "x = 5 \n",
      "y = 10\n",
      "z = 15\n",
      "\n",
      "# List of our variables\n",
      "numbers = [x, y, z]\n",
      "\n",
      "# Checking if y is both greater than x and less than z\n",
      "if x < y and y < z:\n",
      "\tprint 'y is in the middle'\n",
      "\tnumbers.append(20) # If this is true, append 20 to our numbers list\n",
      "\n",
      "# Checking if z is less than y or less than x\n",
      "elif z < y or z < x:\n",
      "    print 'z is less'\n",
      "\n",
      "print numbers\n",
      "\n",
      "# Making a dictionary of the number of letters in each word\n",
      "structures = {'lists': 5, 'dictionaries': 12}\n",
      "print structures.keys()\n",
      "\n",
      "structures['items'] = 5\n",
      "print structures"
     ],
     "language": "python",
     "metadata": {},
     "outputs": [
      {
       "output_type": "stream",
       "stream": "stdout",
       "text": [
        "y is in the middle\n",
        "[5, 10, 15, 20]\n",
        "['dictionaries', 'lists']\n",
        "{'items': 5, 'dictionaries': 12, 'lists': 5}\n"
       ]
      }
     ],
     "prompt_number": 17
    },
    {
     "cell_type": "markdown",
     "metadata": {},
     "source": [
      "We create a small dictionary, print out the keys, and then add another item to the dictionary."
     ]
    },
    {
     "cell_type": "markdown",
     "metadata": {},
     "source": [
      "## Loops\n",
      "\n",
      "Sometimes, you'll want to repeat a task until you've gone through "
     ]
    },
    {
     "cell_type": "markdown",
     "metadata": {},
     "source": [
      "### For"
     ]
    },
    {
     "cell_type": "markdown",
     "metadata": {},
     "source": [
      "### While"
     ]
    },
    {
     "cell_type": "markdown",
     "metadata": {},
     "source": [
      "## Functions"
     ]
    },
    {
     "cell_type": "code",
     "collapsed": false,
     "input": [],
     "language": "python",
     "metadata": {},
     "outputs": []
    },
    {
     "cell_type": "markdown",
     "metadata": {},
     "source": [
      "## import"
     ]
    },
    {
     "cell_type": "markdown",
     "metadata": {},
     "source": [
      "## Let's put it all together and make a hangman program!"
     ]
    },
    {
     "cell_type": "code",
     "collapsed": false,
     "input": [],
     "language": "python",
     "metadata": {},
     "outputs": []
    }
   ],
   "metadata": {}
  }
 ]
}