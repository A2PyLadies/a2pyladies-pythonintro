{
 "metadata": {
  "name": ""
 },
 "nbformat": 3,
 "nbformat_minor": 0,
 "worksheets": [
  {
   "cells": [
    {
     "cell_type": "markdown",
     "metadata": {},
     "source": [
      "## Boolean expressions\n",
      "\n",
      "## Conditionals\n",
      "\n",
      "## Loops\n",
      "\n",
      "### For\n",
      "\n",
      "### While\n",
      "\n",
      "## Data structures: lists, dicts\n",
      "\n",
      "## Functions\n",
      "\n",
      "## import\n",
      "\n",
      "## Let's put it all together and make a hangman program!"
     ]
    }
   ],
   "metadata": {}
  }
 ]
}