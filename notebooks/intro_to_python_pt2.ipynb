{
 "metadata": {
  "name": ""
 },
 "nbformat": 3,
 "nbformat_minor": 0,
 "worksheets": [
  {
   "cells": [
    {
     "cell_type": "markdown",
     "metadata": {},
     "source": [
      "# Intro to Python - Part 2\n",
      "\n",
      "For the next part of this class, we'll be working out of the text editor, instead of the interactive shell. We're going to learn a few more useful things and then start on our hangman program. Let's open up the file we created in part one, 'script.py'.\n",
      "\n",
      "## Comments\n",
      "\n",
      "A useful strategy for writing code is to write in comments. Comments are lines of code that the program doesn't execute, but are written in so you know what's going on in the code. In Python, comments start with the '#' symbol. You can write comments like this:"
     ]
    },
    {
     "cell_type": "code",
     "collapsed": false,
     "input": [
      "# This is a comment!"
     ],
     "language": "python",
     "metadata": {},
     "outputs": [],
     "prompt_number": 2
    },
    {
     "cell_type": "markdown",
     "metadata": {},
     "source": [
      "So let's go back to our file and comment out the line we wrote. Your line should look like this:"
     ]
    },
    {
     "cell_type": "code",
     "collapsed": false,
     "input": [
      "# print 'Hello, world!'"
     ],
     "language": "python",
     "metadata": {},
     "outputs": [],
     "prompt_number": 4
    },
    {
     "cell_type": "markdown",
     "metadata": {},
     "source": [
      "## Conditionals\n",
      "\n",
      "Conditionals are extremely important to writing programs. Sometimes, we don't want to execute everything we write all the time but only when certain critera is met (or under certain conditions). For that, we have if and else statements. \n",
      "\n",
      "### A note about whitespace and indentation\n",
      "\n",
      "Before we write some conditionals, there are a couple of things we need to know. First, whitespace is very important in Python. Writing conditionals (and loops and functions) creates code blocks which, if not properly indented, will throw an error when run. This can be annoying at first, but it ensures that everyone's code is readable and written in the same style. Hitting 'tab' to indent will do the trick. \n",
      "\n",
      "Back in our file, write the following, save the file, and then type 'python script.py' and hit enter in the command line:"
     ]
    },
    {
     "cell_type": "code",
     "collapsed": false,
     "input": [
      "x = 5\n",
      "\n",
      "# If statement\n",
      "if x == 5:\n",
      "    print 'x is equal to 5'"
     ],
     "language": "python",
     "metadata": {},
     "outputs": [
      {
       "output_type": "stream",
       "stream": "stdout",
       "text": [
        "x is equal to 5\n"
       ]
      }
     ],
     "prompt_number": 5
    },
    {
     "cell_type": "markdown",
     "metadata": {},
     "source": [
      "Let's make it a little more interesting. Add the following to your file so it looks like this, and run it again:"
     ]
    },
    {
     "cell_type": "code",
     "collapsed": false,
     "input": [
      "x = 5\n",
      "\n",
      "# If statement\n",
      "if x == 5:\n",
      "    print 'x is equal to 5'\n",
      "    \n",
      "y = 10\n",
      "\n",
      "# If/else statement\n",
      "if x > y:\n",
      "    print 'x is greater than y'\n",
      "else:\n",
      "    print 'y is greater than x'"
     ],
     "language": "python",
     "metadata": {},
     "outputs": [
      {
       "output_type": "stream",
       "stream": "stdout",
       "text": [
        "x is equal to 5\n",
        "y is greater than x\n"
       ]
      }
     ],
     "prompt_number": 7
    },
    {
     "cell_type": "markdown",
     "metadata": {},
     "source": [
      "Conditionals can also be extended, to check for multiple criteria. You can include multiple conditions in one line, and you can also extend them separately, with 'elif', which is short for 'else if'. Edit your code so it looks like the following:"
     ]
    },
    {
     "cell_type": "code",
     "collapsed": false,
     "input": [
      "x = 5\n",
      "y = 10\n",
      "z = 15\n",
      "\n",
      "# If/else statement\n",
      "\n",
      "# Checking if y is both greater than x and less than z\n",
      "if x < y and y < z:\n",
      "    print 'y is in the middle'\n",
      "# Checking if z is less than y or z is less than x\n",
      "elif z < y or z < x:\n",
      "    print 'z is less'"
     ],
     "language": "python",
     "metadata": {},
     "outputs": [
      {
       "output_type": "stream",
       "stream": "stdout",
       "text": [
        "y is in the middle\n"
       ]
      }
     ],
     "prompt_number": 8
    },
    {
     "cell_type": "markdown",
     "metadata": {},
     "source": [
      "Only the first print statement gets executed, because x is less than y and y is less than z. Z isn't less than either of the other two variables, so the second print statement doesn't get executed."
     ]
    },
    {
     "cell_type": "markdown",
     "metadata": {},
     "source": [
      "## Loops\n",
      "\n"
     ]
    },
    {
     "cell_type": "markdown",
     "metadata": {},
     "source": [
      "### For"
     ]
    },
    {
     "cell_type": "markdown",
     "metadata": {},
     "source": [
      "### While"
     ]
    },
    {
     "cell_type": "markdown",
     "metadata": {},
     "source": [
      "## Data structures: lists, dicts"
     ]
    },
    {
     "cell_type": "markdown",
     "metadata": {},
     "source": [
      "## Functions"
     ]
    },
    {
     "cell_type": "markdown",
     "metadata": {},
     "source": [
      "## import"
     ]
    },
    {
     "cell_type": "markdown",
     "metadata": {},
     "source": [
      "## Let's put it all together and make a hangman program!"
     ]
    },
    {
     "cell_type": "code",
     "collapsed": false,
     "input": [],
     "language": "python",
     "metadata": {},
     "outputs": []
    }
   ],
   "metadata": {}
  }
 ]
}