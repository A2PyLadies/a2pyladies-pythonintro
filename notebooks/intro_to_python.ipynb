{
 "metadata": {
  "name": ""
 },
 "nbformat": 3,
 "nbformat_minor": 0,
 "worksheets": [
  {
   "cells": [
    {
     "cell_type": "markdown",
     "metadata": {},
     "source": [
      "# Intro to Python\n",
      "\n",
      "Welcome to the Ann Arbor PyLadies/Girl Develop It Detroit Intro to Python class! You're going to learn the basics of Python programming while also learning to build a simple Hangman game. It'll be a fun way to show what you've learned.\n",
      "\n",
      "You can access this page at any time, and I'll distribute the link in class.\n",
      "\n",
      "This workshop is adapted from the materials at https://github.com/calebsmith/gdi-intro-python.\n",
      "\n",
      "\n",
      "## About Python and programming\n",
      "\n",
      "## Installing Python and a text editor\n",
      "\n",
      "## Start with interactive shell\n",
      "\n",
      "### Basic stuff: math, variables, strings, int, float, type, raw-input\n",
      "\n",
      "## Open terminal/command line, cd to Desktop, create new file in text editor, save to Desktop, print something simple\n",
      "\n",
      "## Boolean expressions\n",
      "\n",
      "## Conditionals\n",
      "\n",
      "## Loops\n",
      "\n",
      "### For\n",
      "\n",
      "### While\n",
      "\n",
      "## Data structures: lists, dicts\n",
      "\n",
      "## Functions\n",
      "\n",
      "## import\n",
      "\n",
      "## Let's put it all together and make a hangman program!"
     ]
    },
    {
     "cell_type": "code",
     "collapsed": false,
     "input": [],
     "language": "python",
     "metadata": {},
     "outputs": []
    }
   ],
   "metadata": {}
  }
 ]
}